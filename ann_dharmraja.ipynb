{
 "cells": [
  {
   "cell_type": "code",
   "execution_count": 39,
   "metadata": {},
   "outputs": [],
   "source": [
    "# Importing the libraries\n",
    "import numpy as np\n",
    "import matplotlib.pyplot as plt\n",
    "import pandas as pd"
   ]
  },
  {
   "cell_type": "code",
   "execution_count": 40,
   "metadata": {},
   "outputs": [],
   "source": [
    "df= pd.read_csv(\"D:\\Dharmraj\\Data science\\Deep Learning\\Complete-Deep-Learning-master\\ANN\\Churn_Modelling.csv\")"
   ]
  },
  {
   "cell_type": "code",
   "execution_count": 41,
   "metadata": {},
   "outputs": [
    {
     "data": {
      "text/html": [
       "<div>\n",
       "<style scoped>\n",
       "    .dataframe tbody tr th:only-of-type {\n",
       "        vertical-align: middle;\n",
       "    }\n",
       "\n",
       "    .dataframe tbody tr th {\n",
       "        vertical-align: top;\n",
       "    }\n",
       "\n",
       "    .dataframe thead th {\n",
       "        text-align: right;\n",
       "    }\n",
       "</style>\n",
       "<table border=\"1\" class=\"dataframe\">\n",
       "  <thead>\n",
       "    <tr style=\"text-align: right;\">\n",
       "      <th></th>\n",
       "      <th>RowNumber</th>\n",
       "      <th>CustomerId</th>\n",
       "      <th>Surname</th>\n",
       "      <th>CreditScore</th>\n",
       "      <th>Geography</th>\n",
       "      <th>Gender</th>\n",
       "      <th>Age</th>\n",
       "      <th>Tenure</th>\n",
       "      <th>Balance</th>\n",
       "      <th>NumOfProducts</th>\n",
       "      <th>HasCrCard</th>\n",
       "      <th>IsActiveMember</th>\n",
       "      <th>EstimatedSalary</th>\n",
       "      <th>Exited</th>\n",
       "    </tr>\n",
       "  </thead>\n",
       "  <tbody>\n",
       "    <tr>\n",
       "      <th>0</th>\n",
       "      <td>1</td>\n",
       "      <td>15634602</td>\n",
       "      <td>Hargrave</td>\n",
       "      <td>619</td>\n",
       "      <td>France</td>\n",
       "      <td>Female</td>\n",
       "      <td>42</td>\n",
       "      <td>2</td>\n",
       "      <td>0.00</td>\n",
       "      <td>1</td>\n",
       "      <td>1</td>\n",
       "      <td>1</td>\n",
       "      <td>101348.88</td>\n",
       "      <td>1</td>\n",
       "    </tr>\n",
       "    <tr>\n",
       "      <th>1</th>\n",
       "      <td>2</td>\n",
       "      <td>15647311</td>\n",
       "      <td>Hill</td>\n",
       "      <td>608</td>\n",
       "      <td>Spain</td>\n",
       "      <td>Female</td>\n",
       "      <td>41</td>\n",
       "      <td>1</td>\n",
       "      <td>83807.86</td>\n",
       "      <td>1</td>\n",
       "      <td>0</td>\n",
       "      <td>1</td>\n",
       "      <td>112542.58</td>\n",
       "      <td>0</td>\n",
       "    </tr>\n",
       "    <tr>\n",
       "      <th>2</th>\n",
       "      <td>3</td>\n",
       "      <td>15619304</td>\n",
       "      <td>Onio</td>\n",
       "      <td>502</td>\n",
       "      <td>France</td>\n",
       "      <td>Female</td>\n",
       "      <td>42</td>\n",
       "      <td>8</td>\n",
       "      <td>159660.80</td>\n",
       "      <td>3</td>\n",
       "      <td>1</td>\n",
       "      <td>0</td>\n",
       "      <td>113931.57</td>\n",
       "      <td>1</td>\n",
       "    </tr>\n",
       "    <tr>\n",
       "      <th>3</th>\n",
       "      <td>4</td>\n",
       "      <td>15701354</td>\n",
       "      <td>Boni</td>\n",
       "      <td>699</td>\n",
       "      <td>France</td>\n",
       "      <td>Female</td>\n",
       "      <td>39</td>\n",
       "      <td>1</td>\n",
       "      <td>0.00</td>\n",
       "      <td>2</td>\n",
       "      <td>0</td>\n",
       "      <td>0</td>\n",
       "      <td>93826.63</td>\n",
       "      <td>0</td>\n",
       "    </tr>\n",
       "    <tr>\n",
       "      <th>4</th>\n",
       "      <td>5</td>\n",
       "      <td>15737888</td>\n",
       "      <td>Mitchell</td>\n",
       "      <td>850</td>\n",
       "      <td>Spain</td>\n",
       "      <td>Female</td>\n",
       "      <td>43</td>\n",
       "      <td>2</td>\n",
       "      <td>125510.82</td>\n",
       "      <td>1</td>\n",
       "      <td>1</td>\n",
       "      <td>1</td>\n",
       "      <td>79084.10</td>\n",
       "      <td>0</td>\n",
       "    </tr>\n",
       "  </tbody>\n",
       "</table>\n",
       "</div>"
      ],
      "text/plain": [
       "   RowNumber  CustomerId   Surname  CreditScore Geography  Gender  Age  \\\n",
       "0          1    15634602  Hargrave          619    France  Female   42   \n",
       "1          2    15647311      Hill          608     Spain  Female   41   \n",
       "2          3    15619304      Onio          502    France  Female   42   \n",
       "3          4    15701354      Boni          699    France  Female   39   \n",
       "4          5    15737888  Mitchell          850     Spain  Female   43   \n",
       "\n",
       "   Tenure    Balance  NumOfProducts  HasCrCard  IsActiveMember  \\\n",
       "0       2       0.00              1          1               1   \n",
       "1       1   83807.86              1          0               1   \n",
       "2       8  159660.80              3          1               0   \n",
       "3       1       0.00              2          0               0   \n",
       "4       2  125510.82              1          1               1   \n",
       "\n",
       "   EstimatedSalary  Exited  \n",
       "0        101348.88       1  \n",
       "1        112542.58       0  \n",
       "2        113931.57       1  \n",
       "3         93826.63       0  \n",
       "4         79084.10       0  "
      ]
     },
     "execution_count": 41,
     "metadata": {},
     "output_type": "execute_result"
    }
   ],
   "source": [
    "df.head()"
   ]
  },
  {
   "cell_type": "code",
   "execution_count": 42,
   "metadata": {},
   "outputs": [],
   "source": [
    "# Importing the dataset\n",
    "dataset = pd.read_csv('Churn_Modelling.csv')\n",
    "X = dataset.iloc[:, 3:13]\n",
    "y = dataset.iloc[:, 13]"
   ]
  },
  {
   "cell_type": "code",
   "execution_count": 43,
   "metadata": {},
   "outputs": [
    {
     "data": {
      "text/html": [
       "<div>\n",
       "<style scoped>\n",
       "    .dataframe tbody tr th:only-of-type {\n",
       "        vertical-align: middle;\n",
       "    }\n",
       "\n",
       "    .dataframe tbody tr th {\n",
       "        vertical-align: top;\n",
       "    }\n",
       "\n",
       "    .dataframe thead th {\n",
       "        text-align: right;\n",
       "    }\n",
       "</style>\n",
       "<table border=\"1\" class=\"dataframe\">\n",
       "  <thead>\n",
       "    <tr style=\"text-align: right;\">\n",
       "      <th></th>\n",
       "      <th>CreditScore</th>\n",
       "      <th>Geography</th>\n",
       "      <th>Gender</th>\n",
       "      <th>Age</th>\n",
       "      <th>Tenure</th>\n",
       "      <th>Balance</th>\n",
       "      <th>NumOfProducts</th>\n",
       "      <th>HasCrCard</th>\n",
       "      <th>IsActiveMember</th>\n",
       "      <th>EstimatedSalary</th>\n",
       "    </tr>\n",
       "  </thead>\n",
       "  <tbody>\n",
       "    <tr>\n",
       "      <th>0</th>\n",
       "      <td>619</td>\n",
       "      <td>France</td>\n",
       "      <td>Female</td>\n",
       "      <td>42</td>\n",
       "      <td>2</td>\n",
       "      <td>0.00</td>\n",
       "      <td>1</td>\n",
       "      <td>1</td>\n",
       "      <td>1</td>\n",
       "      <td>101348.88</td>\n",
       "    </tr>\n",
       "    <tr>\n",
       "      <th>1</th>\n",
       "      <td>608</td>\n",
       "      <td>Spain</td>\n",
       "      <td>Female</td>\n",
       "      <td>41</td>\n",
       "      <td>1</td>\n",
       "      <td>83807.86</td>\n",
       "      <td>1</td>\n",
       "      <td>0</td>\n",
       "      <td>1</td>\n",
       "      <td>112542.58</td>\n",
       "    </tr>\n",
       "    <tr>\n",
       "      <th>2</th>\n",
       "      <td>502</td>\n",
       "      <td>France</td>\n",
       "      <td>Female</td>\n",
       "      <td>42</td>\n",
       "      <td>8</td>\n",
       "      <td>159660.80</td>\n",
       "      <td>3</td>\n",
       "      <td>1</td>\n",
       "      <td>0</td>\n",
       "      <td>113931.57</td>\n",
       "    </tr>\n",
       "    <tr>\n",
       "      <th>3</th>\n",
       "      <td>699</td>\n",
       "      <td>France</td>\n",
       "      <td>Female</td>\n",
       "      <td>39</td>\n",
       "      <td>1</td>\n",
       "      <td>0.00</td>\n",
       "      <td>2</td>\n",
       "      <td>0</td>\n",
       "      <td>0</td>\n",
       "      <td>93826.63</td>\n",
       "    </tr>\n",
       "    <tr>\n",
       "      <th>4</th>\n",
       "      <td>850</td>\n",
       "      <td>Spain</td>\n",
       "      <td>Female</td>\n",
       "      <td>43</td>\n",
       "      <td>2</td>\n",
       "      <td>125510.82</td>\n",
       "      <td>1</td>\n",
       "      <td>1</td>\n",
       "      <td>1</td>\n",
       "      <td>79084.10</td>\n",
       "    </tr>\n",
       "  </tbody>\n",
       "</table>\n",
       "</div>"
      ],
      "text/plain": [
       "   CreditScore Geography  Gender  Age  Tenure    Balance  NumOfProducts  \\\n",
       "0          619    France  Female   42       2       0.00              1   \n",
       "1          608     Spain  Female   41       1   83807.86              1   \n",
       "2          502    France  Female   42       8  159660.80              3   \n",
       "3          699    France  Female   39       1       0.00              2   \n",
       "4          850     Spain  Female   43       2  125510.82              1   \n",
       "\n",
       "   HasCrCard  IsActiveMember  EstimatedSalary  \n",
       "0          1               1        101348.88  \n",
       "1          0               1        112542.58  \n",
       "2          1               0        113931.57  \n",
       "3          0               0         93826.63  \n",
       "4          1               1         79084.10  "
      ]
     },
     "execution_count": 43,
     "metadata": {},
     "output_type": "execute_result"
    }
   ],
   "source": [
    "X.head()"
   ]
  },
  {
   "cell_type": "code",
   "execution_count": 44,
   "metadata": {},
   "outputs": [
    {
     "data": {
      "text/plain": [
       "0    1\n",
       "1    0\n",
       "2    1\n",
       "3    0\n",
       "4    0\n",
       "Name: Exited, dtype: int64"
      ]
     },
     "execution_count": 44,
     "metadata": {},
     "output_type": "execute_result"
    }
   ],
   "source": [
    "y.head()"
   ]
  },
  {
   "cell_type": "code",
   "execution_count": 47,
   "metadata": {},
   "outputs": [
    {
     "data": {
      "text/html": [
       "<div>\n",
       "<style scoped>\n",
       "    .dataframe tbody tr th:only-of-type {\n",
       "        vertical-align: middle;\n",
       "    }\n",
       "\n",
       "    .dataframe tbody tr th {\n",
       "        vertical-align: top;\n",
       "    }\n",
       "\n",
       "    .dataframe thead th {\n",
       "        text-align: right;\n",
       "    }\n",
       "</style>\n",
       "<table border=\"1\" class=\"dataframe\">\n",
       "  <thead>\n",
       "    <tr style=\"text-align: right;\">\n",
       "      <th></th>\n",
       "      <th>Germany</th>\n",
       "      <th>Spain</th>\n",
       "    </tr>\n",
       "  </thead>\n",
       "  <tbody>\n",
       "    <tr>\n",
       "      <th>0</th>\n",
       "      <td>0</td>\n",
       "      <td>0</td>\n",
       "    </tr>\n",
       "    <tr>\n",
       "      <th>1</th>\n",
       "      <td>0</td>\n",
       "      <td>1</td>\n",
       "    </tr>\n",
       "    <tr>\n",
       "      <th>2</th>\n",
       "      <td>0</td>\n",
       "      <td>0</td>\n",
       "    </tr>\n",
       "    <tr>\n",
       "      <th>3</th>\n",
       "      <td>0</td>\n",
       "      <td>0</td>\n",
       "    </tr>\n",
       "    <tr>\n",
       "      <th>4</th>\n",
       "      <td>0</td>\n",
       "      <td>1</td>\n",
       "    </tr>\n",
       "  </tbody>\n",
       "</table>\n",
       "</div>"
      ],
      "text/plain": [
       "   Germany  Spain\n",
       "0        0      0\n",
       "1        0      1\n",
       "2        0      0\n",
       "3        0      0\n",
       "4        0      1"
      ]
     },
     "execution_count": 47,
     "metadata": {},
     "output_type": "execute_result"
    }
   ],
   "source": [
    "#Create dummy variables\n",
    "geography=pd.get_dummies(X[\"Geography\"],drop_first=True)\n",
    "gender=pd.get_dummies(X['Gender'],drop_first=True)\n",
    "geography.head()"
   ]
  },
  {
   "cell_type": "code",
   "execution_count": 48,
   "metadata": {},
   "outputs": [
    {
     "data": {
      "text/html": [
       "<div>\n",
       "<style scoped>\n",
       "    .dataframe tbody tr th:only-of-type {\n",
       "        vertical-align: middle;\n",
       "    }\n",
       "\n",
       "    .dataframe tbody tr th {\n",
       "        vertical-align: top;\n",
       "    }\n",
       "\n",
       "    .dataframe thead th {\n",
       "        text-align: right;\n",
       "    }\n",
       "</style>\n",
       "<table border=\"1\" class=\"dataframe\">\n",
       "  <thead>\n",
       "    <tr style=\"text-align: right;\">\n",
       "      <th></th>\n",
       "      <th>CreditScore</th>\n",
       "      <th>Age</th>\n",
       "      <th>Tenure</th>\n",
       "      <th>Balance</th>\n",
       "      <th>NumOfProducts</th>\n",
       "      <th>HasCrCard</th>\n",
       "      <th>IsActiveMember</th>\n",
       "      <th>EstimatedSalary</th>\n",
       "      <th>Germany</th>\n",
       "      <th>Spain</th>\n",
       "      <th>Male</th>\n",
       "    </tr>\n",
       "  </thead>\n",
       "  <tbody>\n",
       "    <tr>\n",
       "      <th>0</th>\n",
       "      <td>619</td>\n",
       "      <td>42</td>\n",
       "      <td>2</td>\n",
       "      <td>0.00</td>\n",
       "      <td>1</td>\n",
       "      <td>1</td>\n",
       "      <td>1</td>\n",
       "      <td>101348.88</td>\n",
       "      <td>0</td>\n",
       "      <td>0</td>\n",
       "      <td>0</td>\n",
       "    </tr>\n",
       "    <tr>\n",
       "      <th>1</th>\n",
       "      <td>608</td>\n",
       "      <td>41</td>\n",
       "      <td>1</td>\n",
       "      <td>83807.86</td>\n",
       "      <td>1</td>\n",
       "      <td>0</td>\n",
       "      <td>1</td>\n",
       "      <td>112542.58</td>\n",
       "      <td>0</td>\n",
       "      <td>1</td>\n",
       "      <td>0</td>\n",
       "    </tr>\n",
       "    <tr>\n",
       "      <th>2</th>\n",
       "      <td>502</td>\n",
       "      <td>42</td>\n",
       "      <td>8</td>\n",
       "      <td>159660.80</td>\n",
       "      <td>3</td>\n",
       "      <td>1</td>\n",
       "      <td>0</td>\n",
       "      <td>113931.57</td>\n",
       "      <td>0</td>\n",
       "      <td>0</td>\n",
       "      <td>0</td>\n",
       "    </tr>\n",
       "    <tr>\n",
       "      <th>3</th>\n",
       "      <td>699</td>\n",
       "      <td>39</td>\n",
       "      <td>1</td>\n",
       "      <td>0.00</td>\n",
       "      <td>2</td>\n",
       "      <td>0</td>\n",
       "      <td>0</td>\n",
       "      <td>93826.63</td>\n",
       "      <td>0</td>\n",
       "      <td>0</td>\n",
       "      <td>0</td>\n",
       "    </tr>\n",
       "    <tr>\n",
       "      <th>4</th>\n",
       "      <td>850</td>\n",
       "      <td>43</td>\n",
       "      <td>2</td>\n",
       "      <td>125510.82</td>\n",
       "      <td>1</td>\n",
       "      <td>1</td>\n",
       "      <td>1</td>\n",
       "      <td>79084.10</td>\n",
       "      <td>0</td>\n",
       "      <td>1</td>\n",
       "      <td>0</td>\n",
       "    </tr>\n",
       "  </tbody>\n",
       "</table>\n",
       "</div>"
      ],
      "text/plain": [
       "   CreditScore  Age  Tenure    Balance  NumOfProducts  HasCrCard  \\\n",
       "0          619   42       2       0.00              1          1   \n",
       "1          608   41       1   83807.86              1          0   \n",
       "2          502   42       8  159660.80              3          1   \n",
       "3          699   39       1       0.00              2          0   \n",
       "4          850   43       2  125510.82              1          1   \n",
       "\n",
       "   IsActiveMember  EstimatedSalary  Germany  Spain  Male  \n",
       "0               1        101348.88        0      0     0  \n",
       "1               1        112542.58        0      1     0  \n",
       "2               0        113931.57        0      0     0  \n",
       "3               0         93826.63        0      0     0  \n",
       "4               1         79084.10        0      1     0  "
      ]
     },
     "execution_count": 48,
     "metadata": {},
     "output_type": "execute_result"
    }
   ],
   "source": [
    "# Concatenate the Data Frames\n",
    "\n",
    "X=pd.concat([X,geography,gender],axis=1)\n",
    "\n",
    "## Drop Unnecessary columns\n",
    "X=X.drop(['Geography','Gender'],axis=1)\n",
    "X.head()"
   ]
  },
  {
   "cell_type": "code",
   "execution_count": 8,
   "metadata": {},
   "outputs": [],
   "source": [
    "# Splitting the dataset into the Training set and Test set\n",
    "from sklearn.model_selection import train_test_split\n",
    "X_train, X_test, y_train, y_test = train_test_split(X, y, test_size = 0.2, random_state = 0)"
   ]
  },
  {
   "cell_type": "code",
   "execution_count": 9,
   "metadata": {},
   "outputs": [],
   "source": [
    "# Feature Scaling\n",
    "from sklearn.preprocessing import StandardScaler\n",
    "sc = StandardScaler()\n",
    "X_train = sc.fit_transform(X_train)\n",
    "X_test = sc.transform(X_test)"
   ]
  },
  {
   "cell_type": "code",
   "execution_count": 10,
   "metadata": {},
   "outputs": [
    {
     "name": "stderr",
     "output_type": "stream",
     "text": [
      "Using TensorFlow backend.\n",
      "D:\\Anacond\\lib\\site-packages\\tensorflow\\python\\framework\\dtypes.py:516: FutureWarning: Passing (type, 1) or '1type' as a synonym of type is deprecated; in a future version of numpy, it will be understood as (type, (1,)) / '(1,)type'.\n",
      "  _np_qint8 = np.dtype([(\"qint8\", np.int8, 1)])\n",
      "D:\\Anacond\\lib\\site-packages\\tensorflow\\python\\framework\\dtypes.py:517: FutureWarning: Passing (type, 1) or '1type' as a synonym of type is deprecated; in a future version of numpy, it will be understood as (type, (1,)) / '(1,)type'.\n",
      "  _np_quint8 = np.dtype([(\"quint8\", np.uint8, 1)])\n",
      "D:\\Anacond\\lib\\site-packages\\tensorflow\\python\\framework\\dtypes.py:518: FutureWarning: Passing (type, 1) or '1type' as a synonym of type is deprecated; in a future version of numpy, it will be understood as (type, (1,)) / '(1,)type'.\n",
      "  _np_qint16 = np.dtype([(\"qint16\", np.int16, 1)])\n",
      "D:\\Anacond\\lib\\site-packages\\tensorflow\\python\\framework\\dtypes.py:519: FutureWarning: Passing (type, 1) or '1type' as a synonym of type is deprecated; in a future version of numpy, it will be understood as (type, (1,)) / '(1,)type'.\n",
      "  _np_quint16 = np.dtype([(\"quint16\", np.uint16, 1)])\n",
      "D:\\Anacond\\lib\\site-packages\\tensorflow\\python\\framework\\dtypes.py:520: FutureWarning: Passing (type, 1) or '1type' as a synonym of type is deprecated; in a future version of numpy, it will be understood as (type, (1,)) / '(1,)type'.\n",
      "  _np_qint32 = np.dtype([(\"qint32\", np.int32, 1)])\n",
      "D:\\Anacond\\lib\\site-packages\\tensorflow\\python\\framework\\dtypes.py:525: FutureWarning: Passing (type, 1) or '1type' as a synonym of type is deprecated; in a future version of numpy, it will be understood as (type, (1,)) / '(1,)type'.\n",
      "  np_resource = np.dtype([(\"resource\", np.ubyte, 1)])\n",
      "D:\\Anacond\\lib\\site-packages\\tensorboard\\compat\\tensorflow_stub\\dtypes.py:541: FutureWarning: Passing (type, 1) or '1type' as a synonym of type is deprecated; in a future version of numpy, it will be understood as (type, (1,)) / '(1,)type'.\n",
      "  _np_qint8 = np.dtype([(\"qint8\", np.int8, 1)])\n",
      "D:\\Anacond\\lib\\site-packages\\tensorboard\\compat\\tensorflow_stub\\dtypes.py:542: FutureWarning: Passing (type, 1) or '1type' as a synonym of type is deprecated; in a future version of numpy, it will be understood as (type, (1,)) / '(1,)type'.\n",
      "  _np_quint8 = np.dtype([(\"quint8\", np.uint8, 1)])\n",
      "D:\\Anacond\\lib\\site-packages\\tensorboard\\compat\\tensorflow_stub\\dtypes.py:543: FutureWarning: Passing (type, 1) or '1type' as a synonym of type is deprecated; in a future version of numpy, it will be understood as (type, (1,)) / '(1,)type'.\n",
      "  _np_qint16 = np.dtype([(\"qint16\", np.int16, 1)])\n",
      "D:\\Anacond\\lib\\site-packages\\tensorboard\\compat\\tensorflow_stub\\dtypes.py:544: FutureWarning: Passing (type, 1) or '1type' as a synonym of type is deprecated; in a future version of numpy, it will be understood as (type, (1,)) / '(1,)type'.\n",
      "  _np_quint16 = np.dtype([(\"quint16\", np.uint16, 1)])\n",
      "D:\\Anacond\\lib\\site-packages\\tensorboard\\compat\\tensorflow_stub\\dtypes.py:545: FutureWarning: Passing (type, 1) or '1type' as a synonym of type is deprecated; in a future version of numpy, it will be understood as (type, (1,)) / '(1,)type'.\n",
      "  _np_qint32 = np.dtype([(\"qint32\", np.int32, 1)])\n",
      "D:\\Anacond\\lib\\site-packages\\tensorboard\\compat\\tensorflow_stub\\dtypes.py:550: FutureWarning: Passing (type, 1) or '1type' as a synonym of type is deprecated; in a future version of numpy, it will be understood as (type, (1,)) / '(1,)type'.\n",
      "  np_resource = np.dtype([(\"resource\", np.ubyte, 1)])\n"
     ]
    }
   ],
   "source": [
    "# Part 2 - Now let's make the ANN!\n",
    "\n",
    "# Importing the Keras libraries and packages\n",
    "import keras\n",
    "from keras.models import Sequential\n",
    "from keras.layers import Dense\n",
    "from keras.layers import LeakyReLU,PReLU,ELU\n",
    "from keras.layers import Dropout"
   ]
  },
  {
   "cell_type": "code",
   "execution_count": 11,
   "metadata": {},
   "outputs": [],
   "source": [
    " #Initialising the ANN\n",
    "classifier = Sequential()"
   ]
  },
  {
   "cell_type": "code",
   "execution_count": 12,
   "metadata": {},
   "outputs": [
    {
     "name": "stderr",
     "output_type": "stream",
     "text": [
      "D:\\Anacond\\lib\\site-packages\\ipykernel_launcher.py:2: UserWarning: Update your `Dense` call to the Keras 2 API: `Dense(activation=\"relu\", input_dim=11, units=6, kernel_initializer=\"he_uniform\")`\n",
      "  \n"
     ]
    }
   ],
   "source": [
    "# Adding the input layer and the first hidden layer\n",
    "classifier.add(Dense(output_dim = 6, init = 'he_uniform',activation='relu',input_dim = 11))"
   ]
  },
  {
   "cell_type": "code",
   "execution_count": 13,
   "metadata": {},
   "outputs": [
    {
     "name": "stderr",
     "output_type": "stream",
     "text": [
      "D:\\Anacond\\lib\\site-packages\\ipykernel_launcher.py:2: UserWarning: Update your `Dense` call to the Keras 2 API: `Dense(activation=\"relu\", units=6, kernel_initializer=\"he_uniform\")`\n",
      "  \n",
      "D:\\Anacond\\lib\\site-packages\\ipykernel_launcher.py:4: UserWarning: Update your `Dense` call to the Keras 2 API: `Dense(activation=\"sigmoid\", units=1, kernel_initializer=\"glorot_uniform\")`\n",
      "  after removing the cwd from sys.path.\n"
     ]
    }
   ],
   "source": [
    "# Adding the second hidden layer\n",
    "classifier.add(Dense(output_dim = 6, init = 'he_uniform',activation='relu'))\n",
    "# Adding the output layer\n",
    "classifier.add(Dense(output_dim = 1, init = 'glorot_uniform', activation = 'sigmoid'))"
   ]
  },
  {
   "cell_type": "code",
   "execution_count": 14,
   "metadata": {},
   "outputs": [
    {
     "name": "stdout",
     "output_type": "stream",
     "text": [
      "WARNING:tensorflow:From D:\\Anacond\\lib\\site-packages\\tensorflow\\python\\ops\\nn_impl.py:180: add_dispatch_support.<locals>.wrapper (from tensorflow.python.ops.array_ops) is deprecated and will be removed in a future version.\n",
      "Instructions for updating:\n",
      "Use tf.where in 2.0, which has the same broadcast rule as np.where\n"
     ]
    }
   ],
   "source": [
    "# Compiling the ANN\n",
    "classifier.compile(optimizer = 'Adamax', loss = 'binary_crossentropy', metrics = ['accuracy'])"
   ]
  },
  {
   "cell_type": "code",
   "execution_count": 15,
   "metadata": {},
   "outputs": [
    {
     "name": "stderr",
     "output_type": "stream",
     "text": [
      "D:\\Anacond\\lib\\site-packages\\ipykernel_launcher.py:2: UserWarning: The `nb_epoch` argument in `fit` has been renamed `epochs`.\n",
      "  \n"
     ]
    },
    {
     "name": "stdout",
     "output_type": "stream",
     "text": [
      "WARNING:tensorflow:From D:\\Anacond\\lib\\site-packages\\keras\\backend\\tensorflow_backend.py:422: The name tf.global_variables is deprecated. Please use tf.compat.v1.global_variables instead.\n",
      "\n",
      "Train on 5359 samples, validate on 2641 samples\n",
      "Epoch 1/100\n",
      "5359/5359 [==============================] - 3s 607us/step - loss: 0.5572 - accuracy: 0.7513 - val_loss: 0.5138 - val_accuracy: 0.7936\n",
      "Epoch 2/100\n",
      "5359/5359 [==============================] - 1s 198us/step - loss: 0.4928 - accuracy: 0.7983 - val_loss: 0.4872 - val_accuracy: 0.7955\n",
      "Epoch 3/100\n",
      "5359/5359 [==============================] - 1s 190us/step - loss: 0.4690 - accuracy: 0.8041 - val_loss: 0.4699 - val_accuracy: 0.7986\n",
      "Epoch 4/100\n",
      "5359/5359 [==============================] - 1s 216us/step - loss: 0.4516 - accuracy: 0.8059 - val_loss: 0.4571 - val_accuracy: 0.8046\n",
      "Epoch 5/100\n",
      "5359/5359 [==============================] - 1s 172us/step - loss: 0.4392 - accuracy: 0.8117 - val_loss: 0.4481 - val_accuracy: 0.8065\n",
      "Epoch 6/100\n",
      "5359/5359 [==============================] - 1s 174us/step - loss: 0.4287 - accuracy: 0.8177 - val_loss: 0.4400 - val_accuracy: 0.8095\n",
      "Epoch 7/100\n",
      "5359/5359 [==============================] - 1s 171us/step - loss: 0.4193 - accuracy: 0.8222 - val_loss: 0.4330 - val_accuracy: 0.8167\n",
      "Epoch 8/100\n",
      "5359/5359 [==============================] - 1s 211us/step - loss: 0.4104 - accuracy: 0.8302 - val_loss: 0.4259 - val_accuracy: 0.8194\n",
      "Epoch 9/100\n",
      "5359/5359 [==============================] - 1s 203us/step - loss: 0.4019 - accuracy: 0.8375 - val_loss: 0.4194 - val_accuracy: 0.8266\n",
      "Epoch 10/100\n",
      "5359/5359 [==============================] - 1s 194us/step - loss: 0.3950 - accuracy: 0.8401 - val_loss: 0.4127 - val_accuracy: 0.8273\n",
      "Epoch 11/100\n",
      "5359/5359 [==============================] - 1s 193us/step - loss: 0.3889 - accuracy: 0.8419 - val_loss: 0.4078 - val_accuracy: 0.8326\n",
      "Epoch 12/100\n",
      "5359/5359 [==============================] - 1s 195us/step - loss: 0.3837 - accuracy: 0.8453 - val_loss: 0.4030 - val_accuracy: 0.8357\n",
      "Epoch 13/100\n",
      "5359/5359 [==============================] - 1s 191us/step - loss: 0.3793 - accuracy: 0.8466 - val_loss: 0.3993 - val_accuracy: 0.8349\n",
      "Epoch 14/100\n",
      "5359/5359 [==============================] - 1s 195us/step - loss: 0.3754 - accuracy: 0.8487 - val_loss: 0.3965 - val_accuracy: 0.8383\n",
      "Epoch 15/100\n",
      "5359/5359 [==============================] - 1s 257us/step - loss: 0.3719 - accuracy: 0.8505 - val_loss: 0.3939 - val_accuracy: 0.8376\n",
      "Epoch 16/100\n",
      "5359/5359 [==============================] - 1s 208us/step - loss: 0.3691 - accuracy: 0.8526 - val_loss: 0.3932 - val_accuracy: 0.8353\n",
      "Epoch 17/100\n",
      "5359/5359 [==============================] - 1s 222us/step - loss: 0.3672 - accuracy: 0.8509 - val_loss: 0.3904 - val_accuracy: 0.8421\n",
      "Epoch 18/100\n",
      "5359/5359 [==============================] - 1s 190us/step - loss: 0.3652 - accuracy: 0.8522 - val_loss: 0.3893 - val_accuracy: 0.8406\n",
      "Epoch 19/100\n",
      "5359/5359 [==============================] - 1s 168us/step - loss: 0.3638 - accuracy: 0.8546 - val_loss: 0.3876 - val_accuracy: 0.8429\n",
      "Epoch 20/100\n",
      "5359/5359 [==============================] - 1s 169us/step - loss: 0.3621 - accuracy: 0.8524 - val_loss: 0.3872 - val_accuracy: 0.8417\n",
      "Epoch 21/100\n",
      "5359/5359 [==============================] - 1s 216us/step - loss: 0.3611 - accuracy: 0.8556 - val_loss: 0.3859 - val_accuracy: 0.8440\n",
      "Epoch 22/100\n",
      "5359/5359 [==============================] - 1s 195us/step - loss: 0.3596 - accuracy: 0.8539 - val_loss: 0.3853 - val_accuracy: 0.8432\n",
      "Epoch 23/100\n",
      "5359/5359 [==============================] - 1s 209us/step - loss: 0.3585 - accuracy: 0.8550 - val_loss: 0.3848 - val_accuracy: 0.8432\n",
      "Epoch 24/100\n",
      "5359/5359 [==============================] - 1s 208us/step - loss: 0.3576 - accuracy: 0.8541 - val_loss: 0.3838 - val_accuracy: 0.8448\n",
      "Epoch 25/100\n",
      "5359/5359 [==============================] - 1s 198us/step - loss: 0.3569 - accuracy: 0.8539 - val_loss: 0.3834 - val_accuracy: 0.8432\n",
      "Epoch 26/100\n",
      "5359/5359 [==============================] - 1s 202us/step - loss: 0.3558 - accuracy: 0.8546 - val_loss: 0.3830 - val_accuracy: 0.8436\n",
      "Epoch 27/100\n",
      "5359/5359 [==============================] - 1s 213us/step - loss: 0.3549 - accuracy: 0.8518 - val_loss: 0.3826 - val_accuracy: 0.8432\n",
      "Epoch 28/100\n",
      "5359/5359 [==============================] - 1s 202us/step - loss: 0.3544 - accuracy: 0.8535 - val_loss: 0.3820 - val_accuracy: 0.8417\n",
      "Epoch 29/100\n",
      "5359/5359 [==============================] - 1s 186us/step - loss: 0.3538 - accuracy: 0.8533 - val_loss: 0.3813 - val_accuracy: 0.8421\n",
      "Epoch 30/100\n",
      "5359/5359 [==============================] - 1s 208us/step - loss: 0.3531 - accuracy: 0.8537 - val_loss: 0.3804 - val_accuracy: 0.8448\n",
      "Epoch 31/100\n",
      "5359/5359 [==============================] - 1s 172us/step - loss: 0.3524 - accuracy: 0.8531 - val_loss: 0.3798 - val_accuracy: 0.8436\n",
      "Epoch 32/100\n",
      "5359/5359 [==============================] - 1s 222us/step - loss: 0.3519 - accuracy: 0.8546 - val_loss: 0.3791 - val_accuracy: 0.8429\n",
      "Epoch 33/100\n",
      "5359/5359 [==============================] - 1s 178us/step - loss: 0.3511 - accuracy: 0.8543 - val_loss: 0.3786 - val_accuracy: 0.8436\n",
      "Epoch 34/100\n",
      "5359/5359 [==============================] - 1s 229us/step - loss: 0.3505 - accuracy: 0.8548 - val_loss: 0.3780 - val_accuracy: 0.8432\n",
      "Epoch 35/100\n",
      "5359/5359 [==============================] - 1s 177us/step - loss: 0.3498 - accuracy: 0.8556 - val_loss: 0.3775 - val_accuracy: 0.8425\n",
      "Epoch 36/100\n",
      "5359/5359 [==============================] - 1s 204us/step - loss: 0.3491 - accuracy: 0.8541 - val_loss: 0.3771 - val_accuracy: 0.8406\n",
      "Epoch 37/100\n",
      "5359/5359 [==============================] - 1s 172us/step - loss: 0.3486 - accuracy: 0.8561 - val_loss: 0.3768 - val_accuracy: 0.8410\n",
      "Epoch 38/100\n",
      "5359/5359 [==============================] - 1s 196us/step - loss: 0.3481 - accuracy: 0.8550 - val_loss: 0.3766 - val_accuracy: 0.8402\n",
      "Epoch 39/100\n",
      "5359/5359 [==============================] - 1s 184us/step - loss: 0.3477 - accuracy: 0.8559 - val_loss: 0.3764 - val_accuracy: 0.8398\n",
      "Epoch 40/100\n",
      "5359/5359 [==============================] - 1s 183us/step - loss: 0.3471 - accuracy: 0.8558 - val_loss: 0.3755 - val_accuracy: 0.8391\n",
      "Epoch 41/100\n",
      "5359/5359 [==============================] - 1s 233us/step - loss: 0.3467 - accuracy: 0.8558 - val_loss: 0.3756 - val_accuracy: 0.8410\n",
      "Epoch 42/100\n",
      "5359/5359 [==============================] - 1s 181us/step - loss: 0.3461 - accuracy: 0.8567 - val_loss: 0.3744 - val_accuracy: 0.8421\n",
      "Epoch 43/100\n",
      "5359/5359 [==============================] - 1s 180us/step - loss: 0.3456 - accuracy: 0.8554 - val_loss: 0.3738 - val_accuracy: 0.8421\n",
      "Epoch 44/100\n",
      "5359/5359 [==============================] - 1s 174us/step - loss: 0.3453 - accuracy: 0.8563 - val_loss: 0.3738 - val_accuracy: 0.8413\n",
      "Epoch 45/100\n",
      "5359/5359 [==============================] - 1s 204us/step - loss: 0.3448 - accuracy: 0.8563 - val_loss: 0.3739 - val_accuracy: 0.8406\n",
      "Epoch 46/100\n",
      "5359/5359 [==============================] - 1s 209us/step - loss: 0.3444 - accuracy: 0.8565 - val_loss: 0.3735 - val_accuracy: 0.8429\n",
      "Epoch 47/100\n",
      "5359/5359 [==============================] - 1s 169us/step - loss: 0.3440 - accuracy: 0.8574 - val_loss: 0.3732 - val_accuracy: 0.8432\n",
      "Epoch 48/100\n",
      "5359/5359 [==============================] - 1s 205us/step - loss: 0.3438 - accuracy: 0.8582 - val_loss: 0.3730 - val_accuracy: 0.8413\n",
      "Epoch 49/100\n",
      "5359/5359 [==============================] - 1s 190us/step - loss: 0.3432 - accuracy: 0.8580 - val_loss: 0.3728 - val_accuracy: 0.8410\n",
      "Epoch 50/100\n",
      "5359/5359 [==============================] - 1s 213us/step - loss: 0.3429 - accuracy: 0.8565 - val_loss: 0.3718 - val_accuracy: 0.8429\n",
      "Epoch 51/100\n",
      "5359/5359 [==============================] - 1s 191us/step - loss: 0.3425 - accuracy: 0.8571 - val_loss: 0.3723 - val_accuracy: 0.8432\n",
      "Epoch 52/100\n",
      "5359/5359 [==============================] - 1s 172us/step - loss: 0.3419 - accuracy: 0.8580 - val_loss: 0.3733 - val_accuracy: 0.8413\n",
      "Epoch 53/100\n",
      "5359/5359 [==============================] - 1s 172us/step - loss: 0.3421 - accuracy: 0.8586 - val_loss: 0.3716 - val_accuracy: 0.8421\n",
      "Epoch 54/100\n",
      "5359/5359 [==============================] - 1s 190us/step - loss: 0.3415 - accuracy: 0.8595 - val_loss: 0.3709 - val_accuracy: 0.8429\n"
     ]
    },
    {
     "name": "stdout",
     "output_type": "stream",
     "text": [
      "Epoch 55/100\n",
      "5359/5359 [==============================] - 1s 206us/step - loss: 0.3411 - accuracy: 0.8569 - val_loss: 0.3705 - val_accuracy: 0.8432\n",
      "Epoch 56/100\n",
      "5359/5359 [==============================] - 1s 179us/step - loss: 0.3412 - accuracy: 0.8582 - val_loss: 0.3703 - val_accuracy: 0.8436\n",
      "Epoch 57/100\n",
      "5359/5359 [==============================] - 1s 172us/step - loss: 0.3406 - accuracy: 0.8595 - val_loss: 0.3698 - val_accuracy: 0.8459\n",
      "Epoch 58/100\n",
      "5359/5359 [==============================] - 1s 203us/step - loss: 0.3405 - accuracy: 0.8591 - val_loss: 0.3699 - val_accuracy: 0.8459\n",
      "Epoch 59/100\n",
      "5359/5359 [==============================] - 1s 186us/step - loss: 0.3403 - accuracy: 0.8591 - val_loss: 0.3692 - val_accuracy: 0.8463\n",
      "Epoch 60/100\n",
      "5359/5359 [==============================] - 1s 185us/step - loss: 0.3400 - accuracy: 0.8595 - val_loss: 0.3691 - val_accuracy: 0.8440\n",
      "Epoch 61/100\n",
      "5359/5359 [==============================] - 1s 187us/step - loss: 0.3396 - accuracy: 0.8602 - val_loss: 0.3691 - val_accuracy: 0.8436\n",
      "Epoch 62/100\n",
      "5359/5359 [==============================] - 1s 186us/step - loss: 0.3393 - accuracy: 0.8606 - val_loss: 0.3690 - val_accuracy: 0.8463\n",
      "Epoch 63/100\n",
      "5359/5359 [==============================] - 1s 183us/step - loss: 0.3392 - accuracy: 0.8591 - val_loss: 0.3694 - val_accuracy: 0.8436\n",
      "Epoch 64/100\n",
      "5359/5359 [==============================] - 1s 187us/step - loss: 0.3388 - accuracy: 0.8587 - val_loss: 0.3691 - val_accuracy: 0.8463\n",
      "Epoch 65/100\n",
      "5359/5359 [==============================] - 1s 195us/step - loss: 0.3386 - accuracy: 0.8595 - val_loss: 0.3679 - val_accuracy: 0.8485\n",
      "Epoch 66/100\n",
      "5359/5359 [==============================] - 1s 174us/step - loss: 0.3381 - accuracy: 0.8597 - val_loss: 0.3686 - val_accuracy: 0.8436\n",
      "Epoch 67/100\n",
      "5359/5359 [==============================] - 1s 195us/step - loss: 0.3381 - accuracy: 0.8600 - val_loss: 0.3676 - val_accuracy: 0.8470\n",
      "Epoch 68/100\n",
      "5359/5359 [==============================] - 1s 180us/step - loss: 0.3380 - accuracy: 0.8617 - val_loss: 0.3674 - val_accuracy: 0.8466\n",
      "Epoch 69/100\n",
      "5359/5359 [==============================] - 1s 214us/step - loss: 0.3377 - accuracy: 0.8614 - val_loss: 0.3676 - val_accuracy: 0.8466\n",
      "Epoch 70/100\n",
      "5359/5359 [==============================] - 1s 170us/step - loss: 0.3374 - accuracy: 0.8584 - val_loss: 0.3670 - val_accuracy: 0.8459\n",
      "Epoch 71/100\n",
      "5359/5359 [==============================] - 1s 206us/step - loss: 0.3372 - accuracy: 0.8600 - val_loss: 0.3670 - val_accuracy: 0.8459\n",
      "Epoch 72/100\n",
      "5359/5359 [==============================] - 1s 185us/step - loss: 0.3369 - accuracy: 0.8589 - val_loss: 0.3672 - val_accuracy: 0.8463\n",
      "Epoch 73/100\n",
      "5359/5359 [==============================] - 1s 203us/step - loss: 0.3368 - accuracy: 0.8628 - val_loss: 0.3664 - val_accuracy: 0.8455\n",
      "Epoch 74/100\n",
      "5359/5359 [==============================] - 1s 228us/step - loss: 0.3367 - accuracy: 0.8615 - val_loss: 0.3665 - val_accuracy: 0.8474\n",
      "Epoch 75/100\n",
      "5359/5359 [==============================] - 1s 187us/step - loss: 0.3366 - accuracy: 0.8615 - val_loss: 0.3662 - val_accuracy: 0.8448\n",
      "Epoch 76/100\n",
      "5359/5359 [==============================] - 1s 243us/step - loss: 0.3364 - accuracy: 0.8628 - val_loss: 0.3659 - val_accuracy: 0.8474\n",
      "Epoch 77/100\n",
      "5359/5359 [==============================] - 1s 233us/step - loss: 0.3361 - accuracy: 0.8600 - val_loss: 0.3665 - val_accuracy: 0.8470\n",
      "Epoch 78/100\n",
      "5359/5359 [==============================] - 1s 248us/step - loss: 0.3362 - accuracy: 0.8593 - val_loss: 0.3654 - val_accuracy: 0.8485\n",
      "Epoch 79/100\n",
      "5359/5359 [==============================] - 1s 224us/step - loss: 0.3360 - accuracy: 0.8604 - val_loss: 0.3659 - val_accuracy: 0.8489\n",
      "Epoch 80/100\n",
      "5359/5359 [==============================] - 1s 224us/step - loss: 0.3357 - accuracy: 0.8614 - val_loss: 0.3658 - val_accuracy: 0.8482\n",
      "Epoch 81/100\n",
      "5359/5359 [==============================] - 1s 196us/step - loss: 0.3354 - accuracy: 0.8597 - val_loss: 0.3657 - val_accuracy: 0.8493\n",
      "Epoch 82/100\n",
      "5359/5359 [==============================] - 1s 210us/step - loss: 0.3355 - accuracy: 0.8606 - val_loss: 0.3661 - val_accuracy: 0.8482\n",
      "Epoch 83/100\n",
      "5359/5359 [==============================] - 1s 205us/step - loss: 0.3351 - accuracy: 0.8615 - val_loss: 0.3656 - val_accuracy: 0.8497\n",
      "Epoch 84/100\n",
      "5359/5359 [==============================] - 1s 222us/step - loss: 0.3348 - accuracy: 0.8614 - val_loss: 0.3662 - val_accuracy: 0.8474\n",
      "Epoch 85/100\n",
      "5359/5359 [==============================] - 1s 209us/step - loss: 0.3350 - accuracy: 0.8604 - val_loss: 0.3665 - val_accuracy: 0.8478\n",
      "Epoch 86/100\n",
      "5359/5359 [==============================] - 1s 227us/step - loss: 0.3347 - accuracy: 0.8606 - val_loss: 0.3648 - val_accuracy: 0.8497\n",
      "Epoch 87/100\n",
      "5359/5359 [==============================] - 1s 209us/step - loss: 0.3347 - accuracy: 0.8614 - val_loss: 0.3647 - val_accuracy: 0.8489\n",
      "Epoch 88/100\n",
      "5359/5359 [==============================] - 1s 220us/step - loss: 0.3344 - accuracy: 0.8627 - val_loss: 0.3644 - val_accuracy: 0.8501\n",
      "Epoch 89/100\n",
      "5359/5359 [==============================] - 1s 205us/step - loss: 0.3341 - accuracy: 0.8614 - val_loss: 0.3643 - val_accuracy: 0.8497\n",
      "Epoch 90/100\n",
      "5359/5359 [==============================] - 1s 192us/step - loss: 0.3342 - accuracy: 0.8614 - val_loss: 0.3640 - val_accuracy: 0.8485\n",
      "Epoch 91/100\n",
      "5359/5359 [==============================] - 1s 215us/step - loss: 0.3338 - accuracy: 0.8623 - val_loss: 0.3636 - val_accuracy: 0.8512\n",
      "Epoch 92/100\n",
      "5359/5359 [==============================] - 1s 207us/step - loss: 0.3338 - accuracy: 0.8597 - val_loss: 0.3638 - val_accuracy: 0.8501\n",
      "Epoch 93/100\n",
      "5359/5359 [==============================] - 1s 205us/step - loss: 0.3335 - accuracy: 0.8602 - val_loss: 0.3637 - val_accuracy: 0.8493\n",
      "Epoch 94/100\n",
      "5359/5359 [==============================] - 1s 204us/step - loss: 0.3333 - accuracy: 0.8597 - val_loss: 0.3643 - val_accuracy: 0.8448\n",
      "Epoch 95/100\n",
      "5359/5359 [==============================] - 1s 204us/step - loss: 0.3335 - accuracy: 0.8623 - val_loss: 0.3632 - val_accuracy: 0.8501\n",
      "Epoch 96/100\n",
      "5359/5359 [==============================] - 1s 207us/step - loss: 0.3332 - accuracy: 0.8612 - val_loss: 0.3634 - val_accuracy: 0.8501\n",
      "Epoch 97/100\n",
      "5359/5359 [==============================] - 1s 200us/step - loss: 0.3330 - accuracy: 0.8614 - val_loss: 0.3635 - val_accuracy: 0.8519\n",
      "Epoch 98/100\n",
      "5359/5359 [==============================] - 1s 205us/step - loss: 0.3327 - accuracy: 0.8600 - val_loss: 0.3635 - val_accuracy: 0.8519\n",
      "Epoch 99/100\n",
      "5359/5359 [==============================] - 1s 202us/step - loss: 0.3324 - accuracy: 0.8614 - val_loss: 0.3628 - val_accuracy: 0.8493\n",
      "Epoch 100/100\n",
      "5359/5359 [==============================] - 1s 205us/step - loss: 0.3326 - accuracy: 0.8627 - val_loss: 0.3635 - val_accuracy: 0.8527\n"
     ]
    }
   ],
   "source": [
    "# Fitting the ANN to the Training set\n",
    "model_history=classifier.fit(X_train, y_train,validation_split=0.33, batch_size = 10, nb_epoch = 100)"
   ]
  },
  {
   "cell_type": "code",
   "execution_count": 26,
   "metadata": {},
   "outputs": [
    {
     "name": "stdout",
     "output_type": "stream",
     "text": [
      "dict_keys(['val_loss', 'val_accuracy', 'loss', 'accuracy'])\n"
     ]
    },
    {
     "data": {
      "image/png": "[encoded data removed]",
      "text/plain": [
       "<Figure size 432x288 with 1 Axes>"
      ]
     },
     "metadata": {
      "needs_background": "light"
     },
     "output_type": "display_data"
    }
   ],
   "source": [
    "# list all data in history\n",
    "\n",
    "print(model_history.history.keys())\n",
    "# summarize history for accuracy\n",
    "plt.plot(model_history.history['accuracy'])\n",
    "plt.plot(model_history.history['val_accuracy'])\n",
    "plt.title('model accuracy')\n",
    "plt.ylabel('accuracy')\n",
    "plt.xlabel('epoch')\n",
    "plt.legend(['train', 'test'], loc='upper left')\n",
    "plt.show()"
   ]
  },
  {
   "cell_type": "code",
   "execution_count": 18,
   "metadata": {},
   "outputs": [
    {
     "data": {
      "image/png": "[encoded data removed]",
      "text/plain": [
       "<Figure size 432x288 with 1 Axes>"
      ]
     },
     "metadata": {
      "needs_background": "light"
     },
     "output_type": "display_data"
    }
   ],
   "source": [
    "# summarize history for loss\n",
    "plt.plot(model_history.history['loss'])\n",
    "plt.plot(model_history.history['val_loss'])\n",
    "plt.title('model loss')\n",
    "plt.ylabel('loss')\n",
    "plt.xlabel('epoch')\n",
    "plt.legend(['train', 'test'], loc='upper left')\n",
    "plt.show()"
   ]
  },
  {
   "cell_type": "code",
   "execution_count": 19,
   "metadata": {},
   "outputs": [],
   "source": [
    "# Part 3 - Making the predictions and evaluating the model\n",
    "\n",
    "# Predicting the Test set results\n",
    "y_pred = classifier.predict(X_test)\n",
    "y_pred = (y_pred > 0.5)"
   ]
  },
  {
   "cell_type": "code",
   "execution_count": 23,
   "metadata": {},
   "outputs": [
    {
     "data": {
      "text/plain": [
       "array([[1506,   89],\n",
       "       [ 204,  201]], dtype=int64)"
      ]
     },
     "execution_count": 23,
     "metadata": {},
     "output_type": "execute_result"
    }
   ],
   "source": [
    " #Making the Confusion Matrix\n",
    "from sklearn.metrics import confusion_matrix\n",
    "cm = confusion_matrix(y_test, y_pred)\n",
    "cm"
   ]
  },
  {
   "cell_type": "code",
   "execution_count": 21,
   "metadata": {},
   "outputs": [],
   "source": [
    "# Calculate the Accuracy\n",
    "from sklearn.metrics import accuracy_score\n",
    "score=accuracy_score(y_pred,y_test)"
   ]
  },
  {
   "cell_type": "code",
   "execution_count": 22,
   "metadata": {},
   "outputs": [
    {
     "data": {
      "text/plain": [
       "0.8535"
      ]
     },
     "execution_count": 22,
     "metadata": {},
     "output_type": "execute_result"
    }
   ],
   "source": [
    "score"
   ]
  },
  {
   "cell_type": "code",
   "execution_count": 51,
   "metadata": {},
   "outputs": [
    {
     "name": "stdout",
     "output_type": "stream",
     "text": [
      "<module 'tensorflow._api.v1.version' from 'D:\\\\Anacond\\\\lib\\\\site-packages\\\\tensorflow\\\\_api\\\\v1\\\\version\\\\__init__.py'>\n"
     ]
    },
    {
     "data": {
      "text/plain": [
       "'1.14.0'"
      ]
     },
     "execution_count": 51,
     "metadata": {},
     "output_type": "execute_result"
    }
   ],
   "source": [
    "import tensorflow as tf\n",
    "print(tf.version)\n",
    "tf.version\n",
    "tf.__version__"
   ]
  },
  {
   "cell_type": "code",
   "execution_count": null,
   "metadata": {},
   "outputs": [],
   "source": []
  }
 ],
 "metadata": {
  "kernelspec": {
   "display_name": "Python 3",
   "language": "python",
   "name": "python3"
  },
  "language_info": {
   "codemirror_mode": {
    "name": "ipython",
    "version": 3
   },
   "file_extension": ".py",
   "mimetype": "text/x-python",
   "name": "python",
   "nbconvert_exporter": "python",
   "pygments_lexer": "ipython3",
   "version": "3.7.3"
  }
 },
 "nbformat": 4,
 "nbformat_minor": 4
}
